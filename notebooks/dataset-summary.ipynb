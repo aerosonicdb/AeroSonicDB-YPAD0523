{
 "cells": [
  {
   "cell_type": "markdown",
   "id": "71893f3f-98e8-4023-8786-d2fb420715b8",
   "metadata": {},
   "source": [
    "### AeroSonicDB (YPAD-0523): Dataset Summary"
   ]
  },
  {
   "cell_type": "code",
   "execution_count": 1,
   "id": "5a9ce371-b2ba-4b41-bace-82a41eb39d54",
   "metadata": {
    "tags": []
   },
   "outputs": [],
   "source": [
    "import os\n",
    "import pandas as pd\n",
    "import numpy as np\n",
    "import matplotlib.pyplot as plt\n",
    "import matplotlib.ticker as ticker\n",
    "%matplotlib inline"
   ]
  },
  {
   "cell_type": "code",
   "execution_count": 2,
   "id": "74c07089-1405-4202-ac8d-e998ef801cc7",
   "metadata": {
    "jupyter": {
     "source_hidden": true
    }
   },
   "outputs": [],
   "source": [
    "if not os.path.exists('../figures'):\n",
    "    os.mkdir('../figures')"
   ]
  },
  {
   "cell_type": "code",
   "execution_count": 3,
   "id": "a643bd23-0924-4eed-90a7-55801a302824",
   "metadata": {
    "jupyter": {
     "source_hidden": true
    },
    "tags": []
   },
   "outputs": [],
   "source": [
    "dataset_path = '../data/raw'\n",
    "df = pd.read_csv(os.path.join(dataset_path, 'sample_meta.csv'))\n",
    "\n",
    "df['%dur'] = df['duration'] / df['duration'].sum()"
   ]
  },
  {
   "cell_type": "code",
   "execution_count": 4,
   "id": "d9ccb310-511e-499a-8ad4-a3480fb8ce63",
   "metadata": {
    "jupyter": {
     "source_hidden": true
    },
    "tags": []
   },
   "outputs": [],
   "source": [
    "def fetch_dataset_distribution(df, filter_by):\n",
    "    # split dataset by training and test sets\n",
    "    train = df[df['train-test'] == 'train'].reset_index(drop=False)\n",
    "    test = df[df['train-test'] == 'test'].reset_index(drop=False)\n",
    "    \n",
    "    # cross tabulate train set by filter\n",
    "    train_tab = pd.crosstab(index=train[filter_by].astype(str), \n",
    "                            columns=train['fold'], \n",
    "                            values=train['duration'], \n",
    "                            aggfunc='sum', \n",
    "                            margins=True, \n",
    "                            margins_name='TRAIN')\n",
    "    \n",
    "    train_tab.drop('TRAIN', inplace=True)\n",
    "    \n",
    "    for col in train_tab.columns:\n",
    "        train_tab[col] = round(train_tab[col] / train_tab[col].sum() * 100, 2)\n",
    "    \n",
    "    # cross tabulate test set by filter\n",
    "    test_tab = pd.crosstab(index=test[filter_by].astype(str), \n",
    "                             columns=test['fold'], \n",
    "                             values=test['duration'], \n",
    "                             aggfunc='sum')\n",
    "    test_tab['test'] = round(test_tab['test'] / test_tab['test'].sum() * 100, 2)\n",
    "    \n",
    "    # bring in the environmental mappings\n",
    "    env = pd.read_csv('../data/raw/environment_class_mappings.csv')\n",
    "\n",
    "    zeros = 0\n",
    "    ones = 0\n",
    "        \n",
    "    for col in env.columns:\n",
    "        for i in env[col]:\n",
    "            if i == '0':\n",
    "                zeros += 1\n",
    "            elif i == '1':\n",
    "                ones += 1\n",
    "            else:\n",
    "                # skip the \"ignore\" statements\n",
    "                pass\n",
    "\n",
    "    total_env = zeros + ones\n",
    "    \n",
    "    if filter_by == 'class':\n",
    "\n",
    "        env_df = pd.DataFrame(data={'ENV': [zeros, ones]}, index=['0', '1'])\n",
    "        env_df['ENV'] = round((env_df['ENV'] / env_df['ENV'].sum()) * 100, 2)\n",
    "        # bring the tables together\n",
    "        train_tab['TEST'] = test_tab['test']\n",
    "        train_tab['ENV'] = env_df['ENV']\n",
    "        \n",
    "    elif filter_by == 'location':\n",
    "        \n",
    "        # location \"2\" appears in the first 30 minutes of hour number 5 (index 4)\n",
    "        env_loc_2 = env['4'][:360]\n",
    "        \n",
    "        zeros = 0\n",
    "        ones = 0\n",
    "        \n",
    "        for i in env_loc_2:\n",
    "            if i == '0':\n",
    "                zeros += 1\n",
    "            elif i == '1':\n",
    "                ones += 1\n",
    "            else:\n",
    "                pass\n",
    "        \n",
    "        total_loc_2 = zeros + ones\n",
    "\n",
    "        total_loc_0 = total_env - total_loc_2\n",
    "\n",
    "        loc_0 = round(total_loc_0/total_env*100, 2)\n",
    "        loc_2 = round(total_loc_2/total_env*100, 2)\n",
    "            \n",
    "        train_tab = train_tab.merge(test_tab, how='outer', left_index=True, right_index=True).fillna(0)\n",
    "        train_tab['ENV'] = [loc_0, 0.00, loc_2]\n",
    "        train_tab = train_tab.rename(columns={'test': 'TEST'}).fillna(0)           \n",
    "\n",
    "    elif filter_by == 'mic':\n",
    "        # only microphone \"1\" was used during environmental recording sessions\n",
    "        train_tab = train_tab.merge(test_tab, how='outer', left_index=True, right_index=True).fillna(0)\n",
    "        train_tab['ENV'] = [0.00, 100.00]\n",
    "        train_tab = train_tab.rename(columns={'test': 'TEST'}).fillna(0)\n",
    "    \n",
    "    return train_tab\n",
    "    "
   ]
  },
  {
   "cell_type": "markdown",
   "id": "942bced0-1b4d-4c5a-b078-7c6465760f8b",
   "metadata": {
    "tags": []
   },
   "source": [
    "### Class Distribution"
   ]
  },
  {
   "cell_type": "code",
   "execution_count": 5,
   "id": "54676614-387b-499a-a3ca-8b007f7b342a",
   "metadata": {},
   "outputs": [
    {
     "data": {
      "text/html": [
       "<div>\n",
       "<style scoped>\n",
       "    .dataframe tbody tr th:only-of-type {\n",
       "        vertical-align: middle;\n",
       "    }\n",
       "\n",
       "    .dataframe tbody tr th {\n",
       "        vertical-align: top;\n",
       "    }\n",
       "\n",
       "    .dataframe thead th {\n",
       "        text-align: right;\n",
       "    }\n",
       "</style>\n",
       "<table border=\"1\" class=\"dataframe\">\n",
       "  <thead>\n",
       "    <tr style=\"text-align: right;\">\n",
       "      <th>fold</th>\n",
       "      <th>1</th>\n",
       "      <th>2</th>\n",
       "      <th>3</th>\n",
       "      <th>4</th>\n",
       "      <th>5</th>\n",
       "      <th>TRAIN</th>\n",
       "      <th>TEST</th>\n",
       "      <th>ENV</th>\n",
       "    </tr>\n",
       "    <tr>\n",
       "      <th>class</th>\n",
       "      <th></th>\n",
       "      <th></th>\n",
       "      <th></th>\n",
       "      <th></th>\n",
       "      <th></th>\n",
       "      <th></th>\n",
       "      <th></th>\n",
       "      <th></th>\n",
       "    </tr>\n",
       "  </thead>\n",
       "  <tbody>\n",
       "    <tr>\n",
       "      <th>0</th>\n",
       "      <td>24.86</td>\n",
       "      <td>18.24</td>\n",
       "      <td>29.51</td>\n",
       "      <td>27.45</td>\n",
       "      <td>30.26</td>\n",
       "      <td>26.28</td>\n",
       "      <td>37.4</td>\n",
       "      <td>79.95</td>\n",
       "    </tr>\n",
       "    <tr>\n",
       "      <th>1</th>\n",
       "      <td>75.14</td>\n",
       "      <td>81.76</td>\n",
       "      <td>70.49</td>\n",
       "      <td>72.55</td>\n",
       "      <td>69.74</td>\n",
       "      <td>73.72</td>\n",
       "      <td>62.6</td>\n",
       "      <td>20.05</td>\n",
       "    </tr>\n",
       "  </tbody>\n",
       "</table>\n",
       "</div>"
      ],
      "text/plain": [
       "fold       1      2      3      4      5  TRAIN  TEST    ENV\n",
       "class                                                       \n",
       "0      24.86  18.24  29.51  27.45  30.26  26.28  37.4  79.95\n",
       "1      75.14  81.76  70.49  72.55  69.74  73.72  62.6  20.05"
      ]
     },
     "execution_count": 5,
     "metadata": {},
     "output_type": "execute_result"
    }
   ],
   "source": [
    "class_dist = fetch_dataset_distribution(df=df, filter_by='class')\n",
    "class_dist"
   ]
  },
  {
   "cell_type": "code",
   "execution_count": 6,
   "id": "c1ca5472-3fde-4aeb-b512-706eb72e40af",
   "metadata": {},
   "outputs": [],
   "source": [
    "# print(class_dist.to_latex(bold_rows=True))"
   ]
  },
  {
   "cell_type": "markdown",
   "id": "b234be4b-9fcc-487b-9dd2-c1a797b1a3a7",
   "metadata": {},
   "source": [
    "### Location Distribution"
   ]
  },
  {
   "cell_type": "code",
   "execution_count": 7,
   "id": "82e7687f-0221-4c64-ad6d-c60cf287f428",
   "metadata": {},
   "outputs": [
    {
     "data": {
      "text/html": [
       "<div>\n",
       "<style scoped>\n",
       "    .dataframe tbody tr th:only-of-type {\n",
       "        vertical-align: middle;\n",
       "    }\n",
       "\n",
       "    .dataframe tbody tr th {\n",
       "        vertical-align: top;\n",
       "    }\n",
       "\n",
       "    .dataframe thead th {\n",
       "        text-align: right;\n",
       "    }\n",
       "</style>\n",
       "<table border=\"1\" class=\"dataframe\">\n",
       "  <thead>\n",
       "    <tr style=\"text-align: right;\">\n",
       "      <th>fold</th>\n",
       "      <th>1</th>\n",
       "      <th>2</th>\n",
       "      <th>3</th>\n",
       "      <th>4</th>\n",
       "      <th>5</th>\n",
       "      <th>TRAIN</th>\n",
       "      <th>TEST</th>\n",
       "      <th>ENV</th>\n",
       "    </tr>\n",
       "    <tr>\n",
       "      <th>location</th>\n",
       "      <th></th>\n",
       "      <th></th>\n",
       "      <th></th>\n",
       "      <th></th>\n",
       "      <th></th>\n",
       "      <th></th>\n",
       "      <th></th>\n",
       "      <th></th>\n",
       "    </tr>\n",
       "  </thead>\n",
       "  <tbody>\n",
       "    <tr>\n",
       "      <th>0</th>\n",
       "      <td>100.0</td>\n",
       "      <td>100.0</td>\n",
       "      <td>94.82</td>\n",
       "      <td>100.0</td>\n",
       "      <td>95.62</td>\n",
       "      <td>97.98</td>\n",
       "      <td>92.65</td>\n",
       "      <td>90.87</td>\n",
       "    </tr>\n",
       "    <tr>\n",
       "      <th>1</th>\n",
       "      <td>0.0</td>\n",
       "      <td>0.0</td>\n",
       "      <td>5.18</td>\n",
       "      <td>0.0</td>\n",
       "      <td>0.00</td>\n",
       "      <td>1.06</td>\n",
       "      <td>0.00</td>\n",
       "      <td>0.00</td>\n",
       "    </tr>\n",
       "    <tr>\n",
       "      <th>2</th>\n",
       "      <td>0.0</td>\n",
       "      <td>0.0</td>\n",
       "      <td>0.00</td>\n",
       "      <td>0.0</td>\n",
       "      <td>4.38</td>\n",
       "      <td>0.96</td>\n",
       "      <td>7.35</td>\n",
       "      <td>9.13</td>\n",
       "    </tr>\n",
       "  </tbody>\n",
       "</table>\n",
       "</div>"
      ],
      "text/plain": [
       "fold          1      2      3      4      5  TRAIN   TEST    ENV\n",
       "location                                                        \n",
       "0         100.0  100.0  94.82  100.0  95.62  97.98  92.65  90.87\n",
       "1           0.0    0.0   5.18    0.0   0.00   1.06   0.00   0.00\n",
       "2           0.0    0.0   0.00    0.0   4.38   0.96   7.35   9.13"
      ]
     },
     "execution_count": 7,
     "metadata": {},
     "output_type": "execute_result"
    }
   ],
   "source": [
    "loc_dist = fetch_dataset_distribution(df=df, filter_by='location')\n",
    "loc_dist"
   ]
  },
  {
   "cell_type": "code",
   "execution_count": 8,
   "id": "62a624c1-676b-4ffc-a233-c869e35591f6",
   "metadata": {},
   "outputs": [],
   "source": [
    "# print(loc_dist.to_latex(bold_rows=True))"
   ]
  },
  {
   "cell_type": "markdown",
   "id": "5c0d99df-0627-4d27-9f4e-99d36df4acdc",
   "metadata": {},
   "source": [
    "### Microphone Distribution"
   ]
  },
  {
   "cell_type": "code",
   "execution_count": 9,
   "id": "6c0a0228-c5cc-497d-9a9b-37d2236e7707",
   "metadata": {},
   "outputs": [
    {
     "data": {
      "text/html": [
       "<div>\n",
       "<style scoped>\n",
       "    .dataframe tbody tr th:only-of-type {\n",
       "        vertical-align: middle;\n",
       "    }\n",
       "\n",
       "    .dataframe tbody tr th {\n",
       "        vertical-align: top;\n",
       "    }\n",
       "\n",
       "    .dataframe thead th {\n",
       "        text-align: right;\n",
       "    }\n",
       "</style>\n",
       "<table border=\"1\" class=\"dataframe\">\n",
       "  <thead>\n",
       "    <tr style=\"text-align: right;\">\n",
       "      <th>fold</th>\n",
       "      <th>1</th>\n",
       "      <th>2</th>\n",
       "      <th>3</th>\n",
       "      <th>4</th>\n",
       "      <th>5</th>\n",
       "      <th>TRAIN</th>\n",
       "      <th>TEST</th>\n",
       "      <th>ENV</th>\n",
       "    </tr>\n",
       "    <tr>\n",
       "      <th>mic</th>\n",
       "      <th></th>\n",
       "      <th></th>\n",
       "      <th></th>\n",
       "      <th></th>\n",
       "      <th></th>\n",
       "      <th></th>\n",
       "      <th></th>\n",
       "      <th></th>\n",
       "    </tr>\n",
       "  </thead>\n",
       "  <tbody>\n",
       "    <tr>\n",
       "      <th>0</th>\n",
       "      <td>100.0</td>\n",
       "      <td>0.0</td>\n",
       "      <td>0.0</td>\n",
       "      <td>0.0</td>\n",
       "      <td>0.0</td>\n",
       "      <td>19.48</td>\n",
       "      <td>0.0</td>\n",
       "      <td>0.0</td>\n",
       "    </tr>\n",
       "    <tr>\n",
       "      <th>1</th>\n",
       "      <td>0.0</td>\n",
       "      <td>100.0</td>\n",
       "      <td>100.0</td>\n",
       "      <td>100.0</td>\n",
       "      <td>100.0</td>\n",
       "      <td>80.52</td>\n",
       "      <td>100.0</td>\n",
       "      <td>100.0</td>\n",
       "    </tr>\n",
       "  </tbody>\n",
       "</table>\n",
       "</div>"
      ],
      "text/plain": [
       "fold      1      2      3      4      5  TRAIN   TEST    ENV\n",
       "mic                                                         \n",
       "0     100.0    0.0    0.0    0.0    0.0  19.48    0.0    0.0\n",
       "1       0.0  100.0  100.0  100.0  100.0  80.52  100.0  100.0"
      ]
     },
     "execution_count": 9,
     "metadata": {},
     "output_type": "execute_result"
    }
   ],
   "source": [
    "mic_dist = fetch_dataset_distribution(df=df, filter_by='mic')\n",
    "mic_dist"
   ]
  },
  {
   "cell_type": "code",
   "execution_count": 10,
   "id": "96d324a1-2690-40bd-9fbb-e2ae4df5826e",
   "metadata": {},
   "outputs": [],
   "source": [
    "# print(mic_dist.to_latex(bold_rows=True))"
   ]
  },
  {
   "cell_type": "markdown",
   "id": "3e248985-0698-4a12-8217-90ff91653962",
   "metadata": {
    "tags": []
   },
   "source": [
    "### Temporal Distribution"
   ]
  },
  {
   "cell_type": "code",
   "execution_count": 11,
   "id": "91814286-54bc-485b-8466-ae59f4f07041",
   "metadata": {
    "jupyter": {
     "source_hidden": true
    },
    "tags": []
   },
   "outputs": [],
   "source": [
    "df['date_time'] = df['date'] + ' ' + (df['time'].replace('-', ':', regex=True))\n",
    "df['date_time'] = pd.to_datetime(df['date_time'])\n",
    "df['day'] = df['date_time'].dt.day_name()\n",
    "df['hour'] = df['date_time'].dt.hour"
   ]
  },
  {
   "cell_type": "code",
   "execution_count": 12,
   "id": "00269c71-5450-47e9-bbde-c49e6cdaf6ad",
   "metadata": {
    "jupyter": {
     "source_hidden": true
    },
    "tags": []
   },
   "outputs": [
    {
     "data": {
      "image/png": "[encoded data removed]",
      "text/plain": [
       "<Figure size 640x480 with 1 Axes>"
      ]
     },
     "metadata": {},
     "output_type": "display_data"
    }
   ],
   "source": [
    "days = ['Monday','Tuesday','Wednesday','Thursday','Friday','Saturday', 'Sunday']\n",
    "df.groupby('day')[['%dur']].sum().reindex(days).plot(kind='bar')\n",
    "plt.xticks(rotation=25)\n",
    "plt.xlabel('')\n",
    "plt.legend('', frameon=False)\n",
    "plt.title('Distribution of Samples by Day of Week')\n",
    "plt.savefig(f'../figures/day_of_week_dist.png', dpi=300)\n",
    "plt.show()"
   ]
  },
  {
   "cell_type": "code",
   "execution_count": 13,
   "id": "c1d654a8-5442-49c6-833b-185566ea14a9",
   "metadata": {
    "jupyter": {
     "source_hidden": true
    },
    "tags": []
   },
   "outputs": [
    {
     "data": {
      "image/png": "[encoded data removed]",
      "text/plain": [
       "<Figure size 640x480 with 1 Axes>"
      ]
     },
     "metadata": {},
     "output_type": "display_data"
    }
   ],
   "source": [
    "hours = range(0,24)\n",
    "df.groupby('hour')[['%dur']].sum().reindex(hours).plot(kind='bar')\n",
    "plt.xlim(left=0, right=24)\n",
    "plt.xticks(rotation=45)\n",
    "plt.xlabel('Hour of Day')\n",
    "plt.legend('', frameon=False)\n",
    "plt.title('Distribution of Samples by Hour of Day')\n",
    "plt.savefig(f'../figures/hour_of_day_dist.png', dpi=300)\n",
    "plt.show()"
   ]
  },
  {
   "cell_type": "markdown",
   "id": "a530a7f1-e60a-4617-8bc6-cb5a91a8d7ea",
   "metadata": {},
   "source": [
    "### Aircraft Features Summary"
   ]
  },
  {
   "cell_type": "code",
   "execution_count": 14,
   "id": "3a9ca440-4376-49e7-8bc1-8e740c87c0d5",
   "metadata": {},
   "outputs": [],
   "source": [
    "ac = df[df['class'] == 1]"
   ]
  },
  {
   "cell_type": "code",
   "execution_count": 15,
   "id": "dce1cc17-5272-4751-bb88-0bb1f72c5876",
   "metadata": {},
   "outputs": [
    {
     "data": {
      "text/plain": [
       "count    625.000000\n",
       "mean      51.104000\n",
       "std        9.428734\n",
       "min       18.000000\n",
       "25%       47.000000\n",
       "50%       53.000000\n",
       "75%       60.000000\n",
       "max       60.000000\n",
       "Name: duration, dtype: float64"
      ]
     },
     "execution_count": 15,
     "metadata": {},
     "output_type": "execute_result"
    }
   ],
   "source": [
    "ac.duration.describe()"
   ]
  },
  {
   "cell_type": "code",
   "execution_count": 16,
   "id": "8c509f6b-13b3-450a-b083-4d8b40819e39",
   "metadata": {
    "jupyter": {
     "source_hidden": true
    },
    "tags": []
   },
   "outputs": [
    {
     "data": {
      "image/png": "[encoded data removed]",
      "text/plain": [
       "<Figure size 640x480 with 1 Axes>"
      ]
     },
     "metadata": {},
     "output_type": "display_data"
    }
   ],
   "source": [
    "ac.duration.plot(kind='hist', bins=21)\n",
    "plt.title('Aircraft Event Durations (seconds)')\n",
    "plt.ylabel('Count')\n",
    "plt.xlabel('Event Duration (seconds)')\n",
    "plt.savefig(f'../figures/aircraft_event_durations.png', dpi=300)\n",
    "plt.show()"
   ]
  },
  {
   "cell_type": "code",
   "execution_count": 17,
   "id": "989f18ff-8b89-48dc-9ff7-75bbb79ab343",
   "metadata": {},
   "outputs": [
    {
     "data": {
      "text/plain": [
       "count     625.000000\n",
       "mean     3155.320000\n",
       "std       714.395742\n",
       "min      -225.000000\n",
       "25%      2975.000000\n",
       "50%      3250.000000\n",
       "75%      3425.000000\n",
       "max      5675.000000\n",
       "Name: altitude, dtype: float64"
      ]
     },
     "execution_count": 17,
     "metadata": {},
     "output_type": "execute_result"
    }
   ],
   "source": [
    "ac['altitude'].describe()"
   ]
  },
  {
   "cell_type": "code",
   "execution_count": 18,
   "id": "bb691d37-971b-4403-a7b2-f84664a96113",
   "metadata": {},
   "outputs": [
    {
     "data": {
      "text/html": [
       "<div>\n",
       "<style scoped>\n",
       "    .dataframe tbody tr th:only-of-type {\n",
       "        vertical-align: middle;\n",
       "    }\n",
       "\n",
       "    .dataframe tbody tr th {\n",
       "        vertical-align: top;\n",
       "    }\n",
       "\n",
       "    .dataframe thead tr th {\n",
       "        text-align: left;\n",
       "    }\n",
       "\n",
       "    .dataframe thead tr:last-of-type th {\n",
       "        text-align: right;\n",
       "    }\n",
       "</style>\n",
       "<table border=\"1\" class=\"dataframe\">\n",
       "  <thead>\n",
       "    <tr>\n",
       "      <th></th>\n",
       "      <th colspan=\"4\" halign=\"left\">altitude</th>\n",
       "    </tr>\n",
       "    <tr>\n",
       "      <th></th>\n",
       "      <th>min</th>\n",
       "      <th>max</th>\n",
       "      <th>median</th>\n",
       "      <th>mean</th>\n",
       "    </tr>\n",
       "    <tr>\n",
       "      <th>location</th>\n",
       "      <th></th>\n",
       "      <th></th>\n",
       "      <th></th>\n",
       "      <th></th>\n",
       "    </tr>\n",
       "  </thead>\n",
       "  <tbody>\n",
       "    <tr>\n",
       "      <th>0</th>\n",
       "      <td>1875</td>\n",
       "      <td>5675</td>\n",
       "      <td>3275.0</td>\n",
       "      <td>3277.166667</td>\n",
       "    </tr>\n",
       "    <tr>\n",
       "      <th>1</th>\n",
       "      <td>-100</td>\n",
       "      <td>1100</td>\n",
       "      <td>100.0</td>\n",
       "      <td>266.666667</td>\n",
       "    </tr>\n",
       "    <tr>\n",
       "      <th>2</th>\n",
       "      <td>-225</td>\n",
       "      <td>800</td>\n",
       "      <td>237.5</td>\n",
       "      <td>210.937500</td>\n",
       "    </tr>\n",
       "  </tbody>\n",
       "</table>\n",
       "</div>"
      ],
      "text/plain": [
       "         altitude                           \n",
       "              min   max  median         mean\n",
       "location                                    \n",
       "0            1875  5675  3275.0  3277.166667\n",
       "1            -100  1100   100.0   266.666667\n",
       "2            -225   800   237.5   210.937500"
      ]
     },
     "execution_count": 18,
     "metadata": {},
     "output_type": "execute_result"
    }
   ],
   "source": [
    "ac.groupby('location')[['altitude']].agg(['min', 'max', 'median', 'mean'])"
   ]
  },
  {
   "cell_type": "code",
   "execution_count": 19,
   "id": "197bf6ef-37c7-4120-a0c3-b132e20bb95d",
   "metadata": {},
   "outputs": [
    {
     "data": {
      "image/png": "[encoded data removed]",
      "text/plain": [
       "<Figure size 640x480 with 1 Axes>"
      ]
     },
     "metadata": {},
     "output_type": "display_data"
    }
   ],
   "source": [
    "ac.pivot(columns='location').altitude.plot(kind = 'hist', stacked=True, bins=64)\n",
    "plt.title('Histogram of altitudes - all locations')\n",
    "plt.ylim(0,120)\n",
    "plt.show()"
   ]
  },
  {
   "cell_type": "code",
   "execution_count": 20,
   "id": "9c023ed9-aab7-462b-83d6-064645e48d42",
   "metadata": {},
   "outputs": [
    {
     "data": {
      "text/plain": [
       "count       625.000000\n",
       "mean      62044.881600\n",
       "std       56014.731948\n",
       "min        1134.000000\n",
       "25%       29574.000000\n",
       "50%       73500.000000\n",
       "75%       79015.000000\n",
       "max      351800.000000\n",
       "Name: mtow, dtype: float64"
      ]
     },
     "execution_count": 20,
     "metadata": {},
     "output_type": "execute_result"
    }
   ],
   "source": [
    "ac['mtow'].describe()"
   ]
  },
  {
   "cell_type": "code",
   "execution_count": 21,
   "id": "33f2f135-f14a-4244-919f-00d218aef9ef",
   "metadata": {},
   "outputs": [
    {
     "data": {
      "image/png": "[encoded data removed]",
      "text/plain": [
       "<Figure size 640x480 with 1 Axes>"
      ]
     },
     "metadata": {},
     "output_type": "display_data"
    }
   ],
   "source": [
    "ac.mtow.plot(kind = 'hist', stacked=True, bins=28)\n",
    "plt.title('Maximum Take-off Weight')\n",
    "plt.show()"
   ]
  },
  {
   "cell_type": "markdown",
   "id": "76d86eb8-5635-49ee-8bf7-6b6e928d5bcf",
   "metadata": {},
   "source": [
    "### n Most Frequent Values per Aircraft Feature"
   ]
  },
  {
   "cell_type": "code",
   "execution_count": 22,
   "id": "f11fbfbc-eda9-49d7-8578-7160e1541b27",
   "metadata": {
    "jupyter": {
     "source_hidden": true
    },
    "scrolled": true,
    "tags": []
   },
   "outputs": [
    {
     "name": "stdout",
     "output_type": "stream",
     "text": [
      "Column: altitude \n",
      "\n",
      "          count\n",
      "altitude       \n",
      "3275         43\n",
      "3250         32\n",
      "3300         32\n",
      "2875         22\n",
      "3100         21\n",
      "3375         20\n",
      "3350         19\n",
      "2850         19\n",
      "3075         18\n",
      "3225         17 \n",
      "\n",
      "N Unique values: 89\n",
      "\n",
      "\n",
      "Column: hex_id \n",
      "\n",
      "        count\n",
      "hex_id       \n",
      "7C7777     10\n",
      "7C68CE      9\n",
      "7C2BEE      8\n",
      "7C779A      8\n",
      "7C6C52      7\n",
      "7C68D4      6\n",
      "7C7526      5\n",
      "7C752F      5\n",
      "7C68AE      5\n",
      "7C68B4      5 \n",
      "\n",
      "N Unique values: 301\n",
      "\n",
      "\n",
      "Column: airframe \n",
      "\n",
      "                        count\n",
      "airframe                     \n",
      "Power Driven Aeroplane    620\n",
      "Rotorcraft                  5 \n",
      "\n",
      "N Unique values: 2\n",
      "\n",
      "\n",
      "Column: engtype \n",
      "\n",
      "            count\n",
      "engtype          \n",
      "Turbofan      470\n",
      "Turboprop     114\n",
      "Piston         37\n",
      "Turboshaft      4 \n",
      "\n",
      "N Unique values: 4\n",
      "\n",
      "\n",
      "Column: engnum \n",
      "\n",
      "        count\n",
      "engnum       \n",
      "2         583\n",
      "1          39\n",
      "4           3 \n",
      "\n",
      "N Unique values: 3\n",
      "\n",
      "\n",
      "Column: shortdesc \n",
      "\n",
      "           count\n",
      "shortdesc       \n",
      "L2J          467\n",
      "L2T           86\n",
      "L1T           28\n",
      "L2P           26\n",
      "L1P           10\n",
      "H2T            4\n",
      "L4J            3\n",
      "H1P            1 \n",
      "\n",
      "N Unique values: 8\n",
      "\n",
      "\n",
      "Column: typedesig \n",
      "\n",
      "           count\n",
      "typedesig       \n",
      "B738         231\n",
      "E190          88\n",
      "A320          68\n",
      "PC12          27\n",
      "F100          26\n",
      "SF34          26\n",
      "DH8C          22\n",
      "DA42          20\n",
      "DH8D          13\n",
      "BE20          13 \n",
      "\n",
      "N Unique values: 41\n",
      "\n",
      "\n",
      "Column: manu \n",
      "\n",
      "                                                  count\n",
      "manu                                                   \n",
      "THE BOEING COMPANY                                  256\n",
      "EMBRAER - EMPRESA BRASILEIRA DE AERONAUTICA S.A.     89\n",
      "AIRBUS INDUSTRIE                                     83\n",
      "BOMBARDIER INC                                       35\n",
      "PILATUS AIRCRAFT LTD                                 33\n",
      "FOKKER AIRCRAFT B.V.                                 27\n",
      "SAAB AIRCRAFT AB                                     25\n",
      "DIAMOND AIRCRAFT INDUSTRIES                          24\n",
      "HAWKER BEECHCRAFT CORPORATION                        17\n",
      "FAIRCHILD INDUSTRIES INC                              9 \n",
      "\n",
      "N Unique values: 22\n",
      "\n",
      "\n",
      "Column: model \n",
      "\n",
      "                 count\n",
      "model                 \n",
      "737-838            104\n",
      "737-8FE             99\n",
      "ERJ 190-100 IGW     77\n",
      "A320-232            68\n",
      "PC-12/47E           27\n",
      "DHC-8-315           22\n",
      "340B                22\n",
      "DA 42               20\n",
      "F28 MK 0100         18\n",
      "DHC-8-402           13 \n",
      "\n",
      "N Unique values: 57\n",
      "\n",
      "\n",
      "Column: engmanu \n",
      "\n",
      "                              count\n",
      "engmanu                            \n",
      "CFM INTERNATIONAL, S.A.         244\n",
      "GENERAL ELECTRIC COMPANY        128\n",
      "PRATT & WHITNEY CANADA           94\n",
      "INTERNATIONAL AERO ENGINES       68\n",
      "TEXTRON LYCOMING                 37\n",
      "ROLLS ROYCE LTD                  34\n",
      "GARRETT TURBINE ENGINE CO         9\n",
      "WILLIAMS INTERNATIONAL            7\n",
      "TELEDYNE-CONTINENTAL MOTORS       3\n",
      "HONEYWELL INTERNATIONAL INC.      1 \n",
      "\n",
      "N Unique values: 10\n",
      "\n",
      "\n",
      "Column: engmodel \n",
      "\n",
      "              count\n",
      "engmodel           \n",
      "V2527-A5         68\n",
      "CFM-56-7B24      59\n",
      "CFM56-7B26/3     47\n",
      "CF34-10E5        42\n",
      "CF34-10E6        41\n",
      "CFM56-7B24E      36\n",
      "TAY 650-15       26\n",
      "IO-360-M1A       24\n",
      "PT6A-67P         23\n",
      "PW123E           22 \n",
      "\n",
      "N Unique values: 61\n",
      "\n",
      "\n",
      "Column: engfamily \n",
      "\n",
      "           count\n",
      "engfamily       \n",
      "CFM56        242\n",
      "CF34          88\n",
      "V2500         68\n",
      "PT6           48\n",
      "PW100         35\n",
      "IO-360        27\n",
      "TAY           27\n",
      "CT7           26\n",
      "GE90          12\n",
      "TPE331         9 \n",
      "\n",
      "N Unique values: 27\n",
      "\n",
      "\n",
      "Column: fueltype \n",
      "\n",
      "          count\n",
      "fueltype       \n",
      "Kerosene    588\n",
      "Gasoline     37 \n",
      "\n",
      "N Unique values: 2\n",
      "\n",
      "\n",
      "Column: propmanu \n",
      "\n",
      "                                    count\n",
      "propmanu                                 \n",
      "AIRCRAFT NOT FITTED WITH PROPELLER    475\n",
      "HARTZELL PROPELLERS                    53\n",
      "DOWTY PROPELLERS                       32\n",
      "HAMILTON STANDARD                      29\n",
      "MT PROPELLERS                          21\n",
      "MCCAULEY PROPELLERS                    15 \n",
      "\n",
      "N Unique values: 6\n",
      "\n",
      "\n",
      "Column: propmodel \n",
      "\n",
      "                    count\n",
      "propmodel                \n",
      "NOT APPLICABLE        475\n",
      "14SF-15                16\n",
      "R408/6-123-F/17        13\n",
      "HC-E5A-3A/NC10245B     11\n",
      "HC-D4N-3A               9\n",
      "HC-E4A-3D/E10477SK      8\n",
      "R390/4-123-F/27         8\n",
      "R.389/4-123-F/26        8\n",
      "MTV-12-B-C-F            7\n",
      "14RF-19                 7 \n",
      "\n",
      "N Unique values: 35\n",
      "\n",
      "\n",
      "Column: mtow \n",
      "\n",
      "       count\n",
      "mtow        \n",
      "79015    157\n",
      "47790     77\n",
      "78390     55\n",
      "77000     42\n",
      "73500     26\n",
      "4740      26\n",
      "44450     25\n",
      "19500     22\n",
      "13155     22\n",
      "75069     13 \n",
      "\n",
      "N Unique values: 58\n",
      "\n",
      "\n"
     ]
    }
   ],
   "source": [
    "for col in ac.columns:\n",
    "    if col in ['train-test', 'fold', 'filename', 'date', 'time', 'location', \n",
    "               'mic', 'class', 'subclass', 'session', 'offset', 'duration', \n",
    "               '%dur', 'file_length', 'reg', 'date_time', 'day', 'hour']:\n",
    "        pass\n",
    "    else:\n",
    "        print(f'Column: {col}', '\\n')\n",
    "        print(pd.DataFrame(ac[col].value_counts()[:10]), '\\n')\n",
    "        print(f'N Unique values: {ac[col].nunique()}')\n",
    "        print('\\n')"
   ]
  },
  {
   "cell_type": "markdown",
   "id": "223112b0-635d-4bae-97e7-ae712d497f99",
   "metadata": {},
   "source": [
    "### Silence Summary"
   ]
  },
  {
   "cell_type": "code",
   "execution_count": 23,
   "id": "07db6214-f1d6-46da-9ae8-40801599fd62",
   "metadata": {},
   "outputs": [],
   "source": [
    "sil = df[df['class'] == 0]"
   ]
  },
  {
   "cell_type": "code",
   "execution_count": 24,
   "id": "7daa9d20-6861-4891-920d-176c5ca13bbe",
   "metadata": {},
   "outputs": [
    {
     "data": {
      "text/plain": [
       "count    1270.000000\n",
       "mean        9.971654\n",
       "std         0.175262\n",
       "min         8.000000\n",
       "25%        10.000000\n",
       "50%        10.000000\n",
       "75%        10.000000\n",
       "max        10.000000\n",
       "Name: duration, dtype: float64"
      ]
     },
     "execution_count": 24,
     "metadata": {},
     "output_type": "execute_result"
    }
   ],
   "source": [
    "sil.duration.describe()"
   ]
  },
  {
   "cell_type": "code",
   "execution_count": 25,
   "id": "fb2a30b4-bb3f-4e5d-b8fa-d6a7a26114b5",
   "metadata": {
    "jupyter": {
     "source_hidden": true
    },
    "tags": []
   },
   "outputs": [
    {
     "data": {
      "image/png": "[encoded data removed]",
      "text/plain": [
       "<Figure size 640x480 with 1 Axes>"
      ]
     },
     "metadata": {},
     "output_type": "display_data"
    }
   ],
   "source": [
    "c = pd.DataFrame(sil.duration.value_counts()).reset_index().sort_values(by='duration').reset_index(drop=True)\n",
    "\n",
    "fig, ax = plt.subplots()\n",
    "plt.title('Silence Clip Durations (seconds)')\n",
    "\n",
    "plt.bar(c['duration'], c['count'])\n",
    "ax.xaxis.set_major_locator(ticker.MaxNLocator(integer=True))\n",
    "plt.xlabel('Clip Duration (seconds)')\n",
    "\n",
    "plt.yscale('log')\n",
    "plt.ylabel('Count (log scale)')\n",
    "ax.yaxis.set_major_formatter(ticker.ScalarFormatter())\n",
    "plt.savefig(f'../figures/silence_clip_durations.png', dpi=300)\n",
    "plt.show()"
   ]
  }
 ],
 "metadata": {
  "kernelspec": {
   "display_name": "Python 3 (ipykernel)",
   "language": "python",
   "name": "python3"
  },
  "language_info": {
   "codemirror_mode": {
    "name": "ipython",
    "version": 3
   },
   "file_extension": ".py",
   "mimetype": "text/x-python",
   "name": "python",
   "nbconvert_exporter": "python",
   "pygments_lexer": "ipython3",
   "version": "3.12.6"
  }
 },
 "nbformat": 4,
 "nbformat_minor": 5
}
