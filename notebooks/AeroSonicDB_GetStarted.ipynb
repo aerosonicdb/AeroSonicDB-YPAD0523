{
 "cells": [
  {
   "cell_type": "code",
   "execution_count": 1,
   "id": "899f48de",
   "metadata": {
    "ExecuteTime": {
     "end_time": "2023-06-11T01:56:35.026872Z",
     "start_time": "2023-06-11T01:56:34.588599Z"
    }
   },
   "outputs": [],
   "source": [
    "import os\n",
    "\n",
    "import pandas as pd\n",
    "\n",
    "import aerosonicdb.data"
   ]
  },
  {
   "cell_type": "code",
   "execution_count": 2,
   "id": "be1f0ac5",
   "metadata": {
    "ExecuteTime": {
     "end_time": "2023-06-11T01:57:00.508306Z",
     "start_time": "2023-06-11T01:57:00.490679Z"
    }
   },
   "outputs": [],
   "source": [
    "dataset_path = '../data/raw'\n",
    "audio_path = os.path.join(dataset_path, 'audio')"
   ]
  },
  {
   "cell_type": "code",
   "execution_count": 3,
   "id": "c7f3f1af",
   "metadata": {
    "ExecuteTime": {
     "end_time": "2023-06-11T01:57:01.924300Z",
     "start_time": "2023-06-11T01:57:01.900538Z"
    }
   },
   "outputs": [],
   "source": [
    "def get_audio_paths(df, dataset_path):\n",
    "    sep = os.sep\n",
    "\n",
    "    audio_dir = dataset_path + sep + 'audio' + sep\n",
    "    paths = audio_dir + df['class'].astype(str) + sep + df['filename']\n",
    "    return paths"
   ]
  },
  {
   "cell_type": "code",
   "execution_count": 4,
   "id": "071cad6f",
   "metadata": {
    "ExecuteTime": {
     "end_time": "2023-06-11T01:57:03.372073Z",
     "start_time": "2023-06-11T01:57:03.348697Z"
    }
   },
   "outputs": [],
   "source": [
    "def check_dir_setup():\n",
    "    # check dataset directory exists\n",
    "    if not os.path.exists(dataset_path):\n",
    "        print('dataset directory not found - download the dataset to continue')\n",
    "        \n",
    "    if not os.path.exists(audio_path):\n",
    "        print('audio directory not found')\n",
    "        \n",
    "    if not os.path.exists(os.path.join(audio_path, '0')):\n",
    "                if not os.path.exists(os.path.join(audio_path, '1')):\n",
    "                    print('Sub-directories not found')\n",
    "    \n",
    "    else:\n",
    "        print('Directory ready') "
   ]
  },
  {
   "cell_type": "code",
   "execution_count": 5,
   "id": "f3c8d9fa",
   "metadata": {
    "ExecuteTime": {
     "end_time": "2023-06-11T01:57:04.982543Z",
     "start_time": "2023-06-11T01:57:04.976533Z"
    }
   },
   "outputs": [
    {
     "name": "stdout",
     "output_type": "stream",
     "text": [
      "dataset directory not found - download the dataset to continue\n",
      "audio directory not found\n",
      "Sub-directories not found\n"
     ]
    }
   ],
   "source": [
    "check_dir_setup()"
   ]
  },
  {
   "cell_type": "code",
   "execution_count": 6,
   "id": "8e70c4f6",
   "metadata": {
    "ExecuteTime": {
     "end_time": "2023-06-11T01:57:07.415041Z",
     "start_time": "2023-06-11T01:57:07.406078Z"
    }
   },
   "outputs": [],
   "source": [
    "aerosonicdb.data.download()"
   ]
  },
  {
   "cell_type": "code",
   "execution_count": 7,
   "id": "717af97e",
   "metadata": {
    "ExecuteTime": {
     "end_time": "2023-06-11T01:57:13.072733Z",
     "start_time": "2023-06-11T01:57:13.059638Z"
    }
   },
   "outputs": [
    {
     "name": "stdout",
     "output_type": "stream",
     "text": [
      "Directory ready\n"
     ]
    }
   ],
   "source": [
    "check_dir_setup()"
   ]
  },
  {
   "cell_type": "code",
   "execution_count": 8,
   "id": "65318237",
   "metadata": {
    "ExecuteTime": {
     "end_time": "2023-06-11T01:57:30.264331Z",
     "start_time": "2023-06-11T01:57:30.214594Z"
    }
   },
   "outputs": [],
   "source": [
    "# read in the \"sample_meta.csv\"\n",
    "df = pd.read_csv(os.path.join(dataset_path, 'sample_meta.csv'))"
   ]
  },
  {
   "cell_type": "code",
   "execution_count": 9,
   "id": "d3c524e5",
   "metadata": {
    "ExecuteTime": {
     "end_time": "2023-06-11T01:57:35.547992Z",
     "start_time": "2023-06-11T01:57:35.501634Z"
    }
   },
   "outputs": [
    {
     "data": {
      "text/html": [
       "<div>\n",
       "<style scoped>\n",
       "    .dataframe tbody tr th:only-of-type {\n",
       "        vertical-align: middle;\n",
       "    }\n",
       "\n",
       "    .dataframe tbody tr th {\n",
       "        vertical-align: top;\n",
       "    }\n",
       "\n",
       "    .dataframe thead th {\n",
       "        text-align: right;\n",
       "    }\n",
       "</style>\n",
       "<table border=\"1\" class=\"dataframe\">\n",
       "  <thead>\n",
       "    <tr style=\"text-align: right;\">\n",
       "      <th></th>\n",
       "      <th>train-test</th>\n",
       "      <th>fold</th>\n",
       "      <th>filename</th>\n",
       "      <th>date</th>\n",
       "      <th>time</th>\n",
       "      <th>location</th>\n",
       "      <th>mic</th>\n",
       "      <th>class</th>\n",
       "      <th>subclass</th>\n",
       "      <th>altitude</th>\n",
       "      <th>...</th>\n",
       "      <th>typedesig</th>\n",
       "      <th>manu</th>\n",
       "      <th>model</th>\n",
       "      <th>engmanu</th>\n",
       "      <th>engmodel</th>\n",
       "      <th>engfamily</th>\n",
       "      <th>fueltype</th>\n",
       "      <th>propmanu</th>\n",
       "      <th>propmodel</th>\n",
       "      <th>mtow</th>\n",
       "    </tr>\n",
       "  </thead>\n",
       "  <tbody>\n",
       "    <tr>\n",
       "      <th>0</th>\n",
       "      <td>train</td>\n",
       "      <td>1</td>\n",
       "      <td>000000_2022-12-08_09-05-46_0_0.wav</td>\n",
       "      <td>2022-12-08</td>\n",
       "      <td>09-05-46</td>\n",
       "      <td>0</td>\n",
       "      <td>0</td>\n",
       "      <td>0</td>\n",
       "      <td>0</td>\n",
       "      <td>0</td>\n",
       "      <td>...</td>\n",
       "      <td>NaN</td>\n",
       "      <td>NaN</td>\n",
       "      <td>NaN</td>\n",
       "      <td>NaN</td>\n",
       "      <td>NaN</td>\n",
       "      <td>NaN</td>\n",
       "      <td>NaN</td>\n",
       "      <td>NaN</td>\n",
       "      <td>NaN</td>\n",
       "      <td>0</td>\n",
       "    </tr>\n",
       "    <tr>\n",
       "      <th>1</th>\n",
       "      <td>train</td>\n",
       "      <td>1</td>\n",
       "      <td>000000_2022-12-08_09-06-16_0_0.wav</td>\n",
       "      <td>2022-12-08</td>\n",
       "      <td>09-06-16</td>\n",
       "      <td>0</td>\n",
       "      <td>0</td>\n",
       "      <td>0</td>\n",
       "      <td>0</td>\n",
       "      <td>0</td>\n",
       "      <td>...</td>\n",
       "      <td>NaN</td>\n",
       "      <td>NaN</td>\n",
       "      <td>NaN</td>\n",
       "      <td>NaN</td>\n",
       "      <td>NaN</td>\n",
       "      <td>NaN</td>\n",
       "      <td>NaN</td>\n",
       "      <td>NaN</td>\n",
       "      <td>NaN</td>\n",
       "      <td>0</td>\n",
       "    </tr>\n",
       "    <tr>\n",
       "      <th>2</th>\n",
       "      <td>train</td>\n",
       "      <td>1</td>\n",
       "      <td>000000_2022-12-08_09-06-46_0_0.wav</td>\n",
       "      <td>2022-12-08</td>\n",
       "      <td>09-06-46</td>\n",
       "      <td>0</td>\n",
       "      <td>0</td>\n",
       "      <td>0</td>\n",
       "      <td>0</td>\n",
       "      <td>0</td>\n",
       "      <td>...</td>\n",
       "      <td>NaN</td>\n",
       "      <td>NaN</td>\n",
       "      <td>NaN</td>\n",
       "      <td>NaN</td>\n",
       "      <td>NaN</td>\n",
       "      <td>NaN</td>\n",
       "      <td>NaN</td>\n",
       "      <td>NaN</td>\n",
       "      <td>NaN</td>\n",
       "      <td>0</td>\n",
       "    </tr>\n",
       "    <tr>\n",
       "      <th>3</th>\n",
       "      <td>train</td>\n",
       "      <td>1</td>\n",
       "      <td>000000_2022-12-08_09-07-16_0_0.wav</td>\n",
       "      <td>2022-12-08</td>\n",
       "      <td>09-07-16</td>\n",
       "      <td>0</td>\n",
       "      <td>0</td>\n",
       "      <td>0</td>\n",
       "      <td>0</td>\n",
       "      <td>0</td>\n",
       "      <td>...</td>\n",
       "      <td>NaN</td>\n",
       "      <td>NaN</td>\n",
       "      <td>NaN</td>\n",
       "      <td>NaN</td>\n",
       "      <td>NaN</td>\n",
       "      <td>NaN</td>\n",
       "      <td>NaN</td>\n",
       "      <td>NaN</td>\n",
       "      <td>NaN</td>\n",
       "      <td>0</td>\n",
       "    </tr>\n",
       "    <tr>\n",
       "      <th>4</th>\n",
       "      <td>train</td>\n",
       "      <td>1</td>\n",
       "      <td>000000_2022-12-08_09-07-46_0_0.wav</td>\n",
       "      <td>2022-12-08</td>\n",
       "      <td>09-07-46</td>\n",
       "      <td>0</td>\n",
       "      <td>0</td>\n",
       "      <td>0</td>\n",
       "      <td>0</td>\n",
       "      <td>0</td>\n",
       "      <td>...</td>\n",
       "      <td>NaN</td>\n",
       "      <td>NaN</td>\n",
       "      <td>NaN</td>\n",
       "      <td>NaN</td>\n",
       "      <td>NaN</td>\n",
       "      <td>NaN</td>\n",
       "      <td>NaN</td>\n",
       "      <td>NaN</td>\n",
       "      <td>NaN</td>\n",
       "      <td>0</td>\n",
       "    </tr>\n",
       "  </tbody>\n",
       "</table>\n",
       "<p>5 rows × 30 columns</p>\n",
       "</div>"
      ],
      "text/plain": [
       "  train-test fold                            filename        date      time  \\\n",
       "0      train    1  000000_2022-12-08_09-05-46_0_0.wav  2022-12-08  09-05-46   \n",
       "1      train    1  000000_2022-12-08_09-06-16_0_0.wav  2022-12-08  09-06-16   \n",
       "2      train    1  000000_2022-12-08_09-06-46_0_0.wav  2022-12-08  09-06-46   \n",
       "3      train    1  000000_2022-12-08_09-07-16_0_0.wav  2022-12-08  09-07-16   \n",
       "4      train    1  000000_2022-12-08_09-07-46_0_0.wav  2022-12-08  09-07-46   \n",
       "\n",
       "   location  mic  class  subclass  altitude  ... typedesig  manu  model  \\\n",
       "0         0    0      0         0         0  ...       NaN   NaN    NaN   \n",
       "1         0    0      0         0         0  ...       NaN   NaN    NaN   \n",
       "2         0    0      0         0         0  ...       NaN   NaN    NaN   \n",
       "3         0    0      0         0         0  ...       NaN   NaN    NaN   \n",
       "4         0    0      0         0         0  ...       NaN   NaN    NaN   \n",
       "\n",
       "   engmanu  engmodel engfamily fueltype propmanu  propmodel mtow  \n",
       "0      NaN       NaN       NaN      NaN      NaN        NaN    0  \n",
       "1      NaN       NaN       NaN      NaN      NaN        NaN    0  \n",
       "2      NaN       NaN       NaN      NaN      NaN        NaN    0  \n",
       "3      NaN       NaN       NaN      NaN      NaN        NaN    0  \n",
       "4      NaN       NaN       NaN      NaN      NaN        NaN    0  \n",
       "\n",
       "[5 rows x 30 columns]"
      ]
     },
     "execution_count": 9,
     "metadata": {},
     "output_type": "execute_result"
    }
   ],
   "source": [
    "df.head()"
   ]
  },
  {
   "cell_type": "code",
   "execution_count": 10,
   "id": "e355d6a3",
   "metadata": {
    "ExecuteTime": {
     "end_time": "2023-06-11T01:57:37.859242Z",
     "start_time": "2023-06-11T01:57:37.764671Z"
    }
   },
   "outputs": [],
   "source": [
    "# get audio paths and check\n",
    "audio_paths = get_audio_paths(df, dataset_path)\n",
    "\n",
    "# check that files exists / lookup is correct\n",
    "for p in audio_paths:\n",
    "    assert os.path.exists(p), p"
   ]
  },
  {
   "cell_type": "code",
   "execution_count": null,
   "id": "66faa3c3",
   "metadata": {},
   "outputs": [],
   "source": []
  }
 ],
 "metadata": {
  "hide_input": false,
  "kernelspec": {
   "display_name": "Python 3 (ipykernel)",
   "language": "python",
   "name": "python3"
  },
  "language_info": {
   "codemirror_mode": {
    "name": "ipython",
    "version": 3
   },
   "file_extension": ".py",
   "mimetype": "text/x-python",
   "name": "python",
   "nbconvert_exporter": "python",
   "pygments_lexer": "ipython3",
   "version": "3.12.6"
  },
  "varInspector": {
   "cols": {
    "lenName": 16,
    "lenType": 16,
    "lenVar": 40
   },
   "kernels_config": {
    "python": {
     "delete_cmd_postfix": "",
     "delete_cmd_prefix": "del ",
     "library": "var_list.py",
     "varRefreshCmd": "print(var_dic_list())"
    },
    "r": {
     "delete_cmd_postfix": ") ",
     "delete_cmd_prefix": "rm(",
     "library": "var_list.r",
     "varRefreshCmd": "cat(var_dic_list()) "
    }
   },
   "types_to_exclude": [
    "module",
    "function",
    "builtin_function_or_method",
    "instance",
    "_Feature"
   ],
   "window_display": false
  }
 },
 "nbformat": 4,
 "nbformat_minor": 5
}
